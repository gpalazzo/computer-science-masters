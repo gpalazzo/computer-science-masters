{
 "cells": [
  {
   "cell_type": "code",
   "execution_count": 1,
   "id": "6b99323f",
   "metadata": {},
   "outputs": [],
   "source": [
    "import pandas as pd"
   ]
  },
  {
   "cell_type": "code",
   "execution_count": null,
   "id": "d534ef5e",
   "metadata": {},
   "outputs": [],
   "source": [
    "df_index_prices = pd.read_csv(\"../data/raw/mkt_index_price_brax11.csv\")"
   ]
  },
  {
   "cell_type": "code",
   "execution_count": null,
   "id": "76dd08fc",
   "metadata": {},
   "outputs": [],
   "source": [
    "df_top30_prices = pd.read_csv(\"../data/raw/top30_stocks_price_within_brax11.csv\")"
   ]
  },
  {
   "cell_type": "code",
   "execution_count": null,
   "id": "2cb7c19d",
   "metadata": {},
   "outputs": [],
   "source": [
    "df_top30_mktcap = pd.read_csv(\"../data/raw/\")"
   ]
  },
  {
   "cell_type": "code",
   "execution_count": null,
   "id": "57f3a0e4",
   "metadata": {},
   "outputs": [],
   "source": []
  },
  {
   "cell_type": "code",
   "execution_count": null,
   "id": "2e72d48b",
   "metadata": {},
   "outputs": [],
   "source": []
  }
 ],
 "metadata": {
  "kernelspec": {
   "display_name": "masters",
   "language": "python",
   "name": "masters"
  },
  "language_info": {
   "codemirror_mode": {
    "name": "ipython",
    "version": 3
   },
   "file_extension": ".py",
   "mimetype": "text/x-python",
   "name": "python",
   "nbconvert_exporter": "python",
   "pygments_lexer": "ipython3",
   "version": "3.7.11"
  }
 },
 "nbformat": 4,
 "nbformat_minor": 5
}
